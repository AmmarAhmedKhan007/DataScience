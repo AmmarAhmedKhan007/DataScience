{
 "cells": [
  {
   "cell_type": "code",
   "execution_count": 1,
   "metadata": {},
   "outputs": [
    {
     "name": "stdout",
     "output_type": "stream",
     "text": [
      "[]\n"
     ]
    }
   ],
   "source": [
    "from PIL import Image\n",
    "import glob\n",
    "\n",
    "print(glob.glob('*.png'))\n",
    "for file in glob.glob(\"*.png\"):\n",
    "    im = Image.open(file)\n",
    "    rgb_im = im.convert('RGB')\n",
    "    rgb_im.save(file.replace(\"png\", \"jpg\"), quality=95)\n",
    "import os\n",
    "\n",
    "for file in glob.glob(\"*.png\"):\n",
    "    os.remove(file)"
   ]
  }
 ],
 "metadata": {
  "kernelspec": {
   "display_name": "Python 3.9.6 64-bit",
   "language": "python",
   "name": "python3"
  },
  "language_info": {
   "codemirror_mode": {
    "name": "ipython",
    "version": 3
   },
   "file_extension": ".py",
   "mimetype": "text/x-python",
   "name": "python",
   "nbconvert_exporter": "python",
   "pygments_lexer": "ipython3",
   "version": "3.9.6"
  },
  "orig_nbformat": 4,
  "vscode": {
   "interpreter": {
    "hash": "966b0e9677715582968ff08d39d121a0f8b2fdf88b00be727b9743268e0f48b0"
   }
  }
 },
 "nbformat": 4,
 "nbformat_minor": 2
}
