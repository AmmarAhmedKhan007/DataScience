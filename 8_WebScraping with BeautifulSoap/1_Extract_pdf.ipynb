{
 "cells": [
  {
   "cell_type": "code",
   "execution_count": 3,
   "metadata": {},
   "outputs": [],
   "source": [
    "import camelot as cm"
   ]
  },
  {
   "cell_type": "code",
   "execution_count": null,
   "metadata": {},
   "outputs": [
    {
     "name": "stderr",
     "output_type": "stream",
     "text": [
      "Overwriting cache for 0 71\n",
      "Overwriting cache for 0 71\n",
      "Overwriting cache for 0 71\n"
     ]
    },
    {
     "ename": "OSError",
     "evalue": "Ghostscript is not installed. You can install it using the instructions here: https://camelot-py.readthedocs.io/en/master/user/install-deps.html",
     "output_type": "error",
     "traceback": [
      "\u001b[1;31m---------------------------------------------------------------------------\u001b[0m",
      "\u001b[1;31mOSError\u001b[0m                                   Traceback (most recent call last)",
      "\u001b[1;32mc:\\Users\\Ammar Ak\\Desktop\\ByteWise Assignments\\ByteWise Assimnment\\8_WebScraping with BeautifulSoap\\1_Extract_pdf.ipynb Cell 3\u001b[0m in \u001b[0;36m<cell line: 1>\u001b[1;34m()\u001b[0m\n\u001b[1;32m----> <a href='vscode-notebook-cell:/c%3A/Users/Ammar%20Ak/Desktop/ByteWise%20Assignments/ByteWise%20Assimnment/8_WebScraping%20with%20BeautifulSoap/1_Extract_pdf.ipynb#ch0000005?line=0'>1</a>\u001b[0m pdf \u001b[39m=\u001b[39m cm\u001b[39m.\u001b[39;49mread_pdf(\u001b[39m\"\u001b[39;49m\u001b[39mindia_factsheet_economic_n_hdi.pdf\u001b[39;49m\u001b[39m\"\u001b[39;49m,flavor\u001b[39m=\u001b[39;49m\u001b[39m'\u001b[39;49m\u001b[39mlattice\u001b[39;49m\u001b[39m'\u001b[39;49m,pages\u001b[39m=\u001b[39;49m\u001b[39m'\u001b[39;49m\u001b[39m1,2\u001b[39;49m\u001b[39m'\u001b[39;49m)\n",
      "File \u001b[1;32mc:\\Users\\Ammar Ak\\AppData\\Local\\Programs\\Python\\Python39\\lib\\site-packages\\camelot\\io.py:113\u001b[0m, in \u001b[0;36mread_pdf\u001b[1;34m(filepath, pages, password, flavor, suppress_stdout, layout_kwargs, **kwargs)\u001b[0m\n\u001b[0;32m    111\u001b[0m p \u001b[39m=\u001b[39m PDFHandler(filepath, pages\u001b[39m=\u001b[39mpages, password\u001b[39m=\u001b[39mpassword)\n\u001b[0;32m    112\u001b[0m kwargs \u001b[39m=\u001b[39m remove_extra(kwargs, flavor\u001b[39m=\u001b[39mflavor)\n\u001b[1;32m--> 113\u001b[0m tables \u001b[39m=\u001b[39m p\u001b[39m.\u001b[39mparse(\n\u001b[0;32m    114\u001b[0m     flavor\u001b[39m=\u001b[39mflavor,\n\u001b[0;32m    115\u001b[0m     suppress_stdout\u001b[39m=\u001b[39msuppress_stdout,\n\u001b[0;32m    116\u001b[0m     layout_kwargs\u001b[39m=\u001b[39mlayout_kwargs,\n\u001b[0;32m    117\u001b[0m     \u001b[39m*\u001b[39m\u001b[39m*\u001b[39mkwargs\n\u001b[0;32m    118\u001b[0m )\n\u001b[0;32m    119\u001b[0m \u001b[39mreturn\u001b[39;00m tables\n",
      "File \u001b[1;32mc:\\Users\\Ammar Ak\\AppData\\Local\\Programs\\Python\\Python39\\lib\\site-packages\\camelot\\handlers.py:176\u001b[0m, in \u001b[0;36mPDFHandler.parse\u001b[1;34m(self, flavor, suppress_stdout, layout_kwargs, **kwargs)\u001b[0m\n\u001b[0;32m    174\u001b[0m     parser \u001b[39m=\u001b[39m Lattice(\u001b[39m*\u001b[39m\u001b[39m*\u001b[39mkwargs) \u001b[39mif\u001b[39;00m flavor \u001b[39m==\u001b[39m \u001b[39m\"\u001b[39m\u001b[39mlattice\u001b[39m\u001b[39m\"\u001b[39m \u001b[39melse\u001b[39;00m Stream(\u001b[39m*\u001b[39m\u001b[39m*\u001b[39mkwargs)\n\u001b[0;32m    175\u001b[0m     \u001b[39mfor\u001b[39;00m p \u001b[39min\u001b[39;00m pages:\n\u001b[1;32m--> 176\u001b[0m         t \u001b[39m=\u001b[39m parser\u001b[39m.\u001b[39;49mextract_tables(\n\u001b[0;32m    177\u001b[0m             p, suppress_stdout\u001b[39m=\u001b[39;49msuppress_stdout, layout_kwargs\u001b[39m=\u001b[39;49mlayout_kwargs\n\u001b[0;32m    178\u001b[0m         )\n\u001b[0;32m    179\u001b[0m         tables\u001b[39m.\u001b[39mextend(t)\n\u001b[0;32m    180\u001b[0m \u001b[39mreturn\u001b[39;00m TableList(\u001b[39msorted\u001b[39m(tables))\n",
      "File \u001b[1;32mc:\\Users\\Ammar Ak\\AppData\\Local\\Programs\\Python\\Python39\\lib\\site-packages\\camelot\\parsers\\lattice.py:421\u001b[0m, in \u001b[0;36mLattice.extract_tables\u001b[1;34m(self, filename, suppress_stdout, layout_kwargs)\u001b[0m\n\u001b[0;32m    416\u001b[0m         warnings\u001b[39m.\u001b[39mwarn(\n\u001b[0;32m    417\u001b[0m             \u001b[39m\"\u001b[39m\u001b[39mNo tables found on \u001b[39m\u001b[39m{}\u001b[39;00m\u001b[39m\"\u001b[39m\u001b[39m.\u001b[39mformat(os\u001b[39m.\u001b[39mpath\u001b[39m.\u001b[39mbasename(\u001b[39mself\u001b[39m\u001b[39m.\u001b[39mrootname))\n\u001b[0;32m    418\u001b[0m         )\n\u001b[0;32m    419\u001b[0m     \u001b[39mreturn\u001b[39;00m []\n\u001b[1;32m--> 421\u001b[0m \u001b[39mself\u001b[39;49m\u001b[39m.\u001b[39;49mbackend\u001b[39m.\u001b[39;49mconvert(\u001b[39mself\u001b[39;49m\u001b[39m.\u001b[39;49mfilename, \u001b[39mself\u001b[39;49m\u001b[39m.\u001b[39;49mimagename)\n\u001b[0;32m    423\u001b[0m \u001b[39mself\u001b[39m\u001b[39m.\u001b[39m_generate_table_bbox()\n\u001b[0;32m    425\u001b[0m _tables \u001b[39m=\u001b[39m []\n",
      "File \u001b[1;32mc:\\Users\\Ammar Ak\\AppData\\Local\\Programs\\Python\\Python39\\lib\\site-packages\\camelot\\backends\\ghostscript_backend.py:31\u001b[0m, in \u001b[0;36mGhostscriptBackend.convert\u001b[1;34m(self, pdf_path, png_path, resolution)\u001b[0m\n\u001b[0;32m     29\u001b[0m \u001b[39mdef\u001b[39;00m \u001b[39mconvert\u001b[39m(\u001b[39mself\u001b[39m, pdf_path, png_path, resolution\u001b[39m=\u001b[39m\u001b[39m300\u001b[39m):\n\u001b[0;32m     30\u001b[0m     \u001b[39mif\u001b[39;00m \u001b[39mnot\u001b[39;00m \u001b[39mself\u001b[39m\u001b[39m.\u001b[39minstalled():\n\u001b[1;32m---> 31\u001b[0m         \u001b[39mraise\u001b[39;00m \u001b[39mOSError\u001b[39;00m(\n\u001b[0;32m     32\u001b[0m             \u001b[39m\"\u001b[39m\u001b[39mGhostscript is not installed. You can install it using the instructions\u001b[39m\u001b[39m\"\u001b[39m\n\u001b[0;32m     33\u001b[0m             \u001b[39m\"\u001b[39m\u001b[39m here: https://camelot-py.readthedocs.io/en/master/user/install-deps.html\u001b[39m\u001b[39m\"\u001b[39m\n\u001b[0;32m     34\u001b[0m         )\n\u001b[0;32m     36\u001b[0m     \u001b[39mimport\u001b[39;00m \u001b[39mghostscript\u001b[39;00m\n\u001b[0;32m     38\u001b[0m     gs_command \u001b[39m=\u001b[39m [\n\u001b[0;32m     39\u001b[0m         \u001b[39m\"\u001b[39m\u001b[39mgs\u001b[39m\u001b[39m\"\u001b[39m,\n\u001b[0;32m     40\u001b[0m         \u001b[39m\"\u001b[39m\u001b[39m-q\u001b[39m\u001b[39m\"\u001b[39m,\n\u001b[1;32m   (...)\u001b[0m\n\u001b[0;32m     45\u001b[0m         pdf_path,\n\u001b[0;32m     46\u001b[0m     ]\n",
      "\u001b[1;31mOSError\u001b[0m: Ghostscript is not installed. You can install it using the instructions here: https://camelot-py.readthedocs.io/en/master/user/install-deps.html"
     ]
    }
   ],
   "source": [
    "pdf = cm.read_pdf(\"india_factsheet_economic_n_hdi.pdf\",flavor='lattice',pages='1,2')"
   ]
  }
 ],
 "metadata": {
  "kernelspec": {
   "display_name": "Python 3.9.6 64-bit",
   "language": "python",
   "name": "python3"
  },
  "language_info": {
   "codemirror_mode": {
    "name": "ipython",
    "version": 3
   },
   "file_extension": ".py",
   "mimetype": "text/x-python",
   "name": "python",
   "nbconvert_exporter": "python",
   "pygments_lexer": "ipython3",
   "version": "3.9.6"
  },
  "orig_nbformat": 4,
  "vscode": {
   "interpreter": {
    "hash": "966b0e9677715582968ff08d39d121a0f8b2fdf88b00be727b9743268e0f48b0"
   }
  }
 },
 "nbformat": 4,
 "nbformat_minor": 2
}
